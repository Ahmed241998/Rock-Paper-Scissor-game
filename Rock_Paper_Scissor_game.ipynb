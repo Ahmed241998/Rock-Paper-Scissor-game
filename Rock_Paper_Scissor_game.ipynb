{
 "cells": [
  {
   "cell_type": "code",
   "execution_count": 1,
   "metadata": {
    "id": "ZLJVdUD4_nn_"
   },
   "outputs": [],
   "source": [
    "def inputs() :\n",
    "    \"\"\"\n",
    "    Ask user to select between paper , rock and scissor\n",
    "    Returns:\n",
    "    (str) userinput - User selection between rock,paper and scissor\n",
    "    \"\"\"\n",
    "    print(\"lets play the game\")\n",
    "    # get user selection between rock,paper and scissor.\n",
    "    user_input=(input(\"choose between rock,paper,scissors [r,p,s] 'enter the whole word or the fist letter of your choice' : \")).strip().lower()\n",
    "    # Use a while loop to handle invalid inputs and ask user for correct selection\n",
    "    while True :\n",
    "        if user_input in [\"rock\",\"paper\",\"scissors\",\"r\",\"p\",\"s\"] :\n",
    "            break \n",
    "        else :\n",
    "            print(\"Enter correct choice\")\n",
    "            user_input=(input(\"choose between rock,paper,scissors [r,p,s] : \")).strip().lower()\n",
    "    # make the two option for each selection(paper,rock,scissor) as one variable to be used after in the code\n",
    "    if user_input == \"r\" or user_input == \"rock\":\n",
    "        user_input=\"rock\"\n",
    "    elif user_input == \"p\" or user_input == \"paper\" :\n",
    "        user_input=\"paper\"\n",
    "    else : \n",
    "        user_input=\"scissors\"\n",
    "    print (\"You have chosen {}\".format(user_input))\n",
    "    return user_input"
   ]
  },
  {
   "cell_type": "code",
   "execution_count": 2,
   "metadata": {},
   "outputs": [],
   "source": [
    "def choice_remover(user_input) :\n",
    "    \"\"\"\n",
    "    Remove the selection of user from the original list\n",
    "    Return \n",
    "    (list) lst - the remaining list after removing the user selection\n",
    "    \"\"\"\n",
    "    # original list\n",
    "    lst=[\"paper\",\"rock\",\"scissors\"]\n",
    "    # for loop to remove the user selection from the original list and update it \n",
    "    for i in range(0,3,1) :\n",
    "        if lst[i] == user_input  : \n",
    "            del lst[i]\n",
    "            break\n",
    "    return lst"
   ]
  },
  {
   "cell_type": "code",
   "execution_count": 3,
   "metadata": {},
   "outputs": [],
   "source": [
    "def winner (user_input , comp_choice) :\n",
    "    \"\"\"\n",
    "    Display winner of the games \n",
    "    \"\"\"\n",
    "    if (user_input == \"rock\" and comp_choice == \"paper\") :\n",
    "        print (\"Unfortunately, You Lost\")\n",
    "        print(\"-\"*40)\n",
    "    elif (user_input == \"paper\" and comp_choice == \"rock\") :\n",
    "        print (\"You Won\")\n",
    "        print(\"-\"*40)\n",
    "    elif (user_input == \"rock\" and comp_choice == \"scissors\"):\n",
    "        print (\"You Won\")\n",
    "        print(\"-\"*40)\n",
    "    elif (user_input == \"scissors\" and comp_choice == \"rock\"):\n",
    "        print (\"Unfortunately, You Lost\")\n",
    "        print(\"-\"*40)\n",
    "    elif (user_input == \"paper\" and comp_choice == \"scissors\") :\n",
    "        print (\"Unfortunately, You Lost\")\n",
    "        print(\"-\"*40)\n",
    "    else :\n",
    "        print (\"You Won\")"
   ]
  },
  {
   "cell_type": "code",
   "execution_count": 4,
   "metadata": {},
   "outputs": [],
   "source": [
    "def yes_no() :\n",
    "    \"\"\"\n",
    "    ask user to continue playing or end the game\n",
    "    \"\"\"\n",
    "    while True : \n",
    "        yn=(input(\"do you want to play with me again[y/n] : \")).strip().lower()\n",
    "        if yn==\"yes\" or yn==\"y\":\n",
    "            user_input = inputs()\n",
    "            lst=choice_remover(user_input)\n",
    "            time.sleep(2.4)\n",
    "            comp_choice=random.choice(lst)\n",
    "            print(\"Computer Chooses {}\".format(comp_choice))\n",
    "            winner (user_input , comp_choice)\n",
    "        elif yn==\"no\" or yn== \"n\" :\n",
    "            break \n",
    "        else :\n",
    "            print(\"Please , Enter a Valid input\")"
   ]
  },
  {
   "cell_type": "code",
   "execution_count": 5,
   "metadata": {},
   "outputs": [
    {
     "name": "stdout",
     "output_type": "stream",
     "text": [
      "lets play the game\n",
      "choose between rock,paper,scissors [r,p,s] 'enter the whole word or the fist letter of your choice' : p\n",
      "You have chosen paper\n",
      "Computer Chooses rock\n",
      "You Won\n",
      "----------------------------------------\n",
      "do you want to play with me again[y/n] : y\n",
      "lets play the game\n",
      "choose between rock,paper,scissors [r,p,s] 'enter the whole word or the fist letter of your choice' : p\n",
      "You have chosen paper\n",
      "Computer Chooses scissors\n",
      "Unfortunately, You Lost\n",
      "----------------------------------------\n",
      "do you want to play with me again[y/n] : y\n",
      "lets play the game\n",
      "choose between rock,paper,scissors [r,p,s] 'enter the whole word or the fist letter of your choice' : s\n",
      "You have chosen scissors\n",
      "Computer Chooses paper\n",
      "You Won\n",
      "do you want to play with me again[y/n] : s\n",
      "Please , Enter a Valid input\n",
      "do you want to play with me again[y/n] : y\n",
      "lets play the game\n",
      "choose between rock,paper,scissors [r,p,s] 'enter the whole word or the fist letter of your choice' : s\n",
      "You have chosen scissors\n",
      "Computer Chooses paper\n",
      "You Won\n",
      "do you want to play with me again[y/n] : y\n",
      "lets play the game\n",
      "choose between rock,paper,scissors [r,p,s] 'enter the whole word or the fist letter of your choice' : s\n",
      "You have chosen scissors\n",
      "Computer Chooses rock\n",
      "Unfortunately, You Lost\n",
      "----------------------------------------\n",
      "do you want to play with me again[y/n] : n\n"
     ]
    }
   ],
   "source": [
    "import random\n",
    "import time\n",
    "user_input = inputs()\n",
    "lst=choice_remover(user_input)\n",
    "time.sleep(2.4)\n",
    "comp_choice=random.choice(lst)\n",
    "print(\"Computer Chooses {}\".format(comp_choice))\n",
    "winner (user_input , comp_choice)\n",
    "yes_no()"
   ]
  }
 ],
 "metadata": {
  "colab": {
   "provenance": []
  },
  "kernelspec": {
   "display_name": "Python 3 (ipykernel)",
   "language": "python",
   "name": "python3"
  },
  "language_info": {
   "codemirror_mode": {
    "name": "ipython",
    "version": 3
   },
   "file_extension": ".py",
   "mimetype": "text/x-python",
   "name": "python",
   "nbconvert_exporter": "python",
   "pygments_lexer": "ipython3",
   "version": "3.9.13"
  }
 },
 "nbformat": 4,
 "nbformat_minor": 1
}
